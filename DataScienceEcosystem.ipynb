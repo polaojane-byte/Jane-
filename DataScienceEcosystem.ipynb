{
 "cells": [
  {
   "cell_type": "markdown",
   "id": "1e2e10c4-5e84-4f88-968c-cb872e6e80f5",
   "metadata": {},
   "source": [
    "# Data Science Tools and Ecosystem"
   ]
  },
  {
   "cell_type": "markdown",
   "id": "24c76ed3-0022-49e8-9cdd-a3c3237da74b",
   "metadata": {},
   "source": [
    "In this notebook, Data Science Tools and Ecosystemare summerized."
   ]
  },
  {
   "cell_type": "markdown",
   "id": "3c655190-8884-43d3-92de-378da43819f1",
   "metadata": {},
   "source": [
    "Some of the popular languages that Data Scientists use are:x=[1,2,3]\n",
    "   y=[ data language, data manipulation,Rprogramming]"
   ]
  },
  {
   "cell_type": "markdown",
   "id": "4ff9f092-a0c8-47d3-a1d8-5694ca195520",
   "metadata": {},
   "source": [
    "some of the commonly used libraries used by Data Scientists include:\n",
    "Data visualization\n",
    "Data Processing\n",
    "Data manipulation"
   ]
  },
  {
   "cell_type": "markdown",
   "id": "92b553c1-acf0-491e-a9ea-486580a97642",
   "metadata": {},
   "source": [
    "Data Science Tools \n",
    "\n",
    "\n",
    "\n",
    "\n",
    "jupiter notebook,visual studio code\n"
   ]
  },
  {
   "cell_type": "markdown",
   "id": "1d3b13ff-91ef-4065-b533-21dde9ac5cc1",
   "metadata": {},
   "source": [
    "### Below are a few examples of evaluating arithmetic expressions in python"
   ]
  },
  {
   "cell_type": "code",
   "execution_count": 17,
   "id": "83f4a9c6-9e14-4ff7-b054-bfdc3af4bfbd",
   "metadata": {},
   "outputs": [
    {
     "data": {
      "text/plain": [
       "17"
      ]
     },
     "execution_count": 17,
     "metadata": {},
     "output_type": "execute_result"
    }
   ],
   "source": [
    "(3*4)+5"
   ]
  },
  {
   "cell_type": "code",
   "execution_count": 24,
   "id": "6b96c288-fed3-4789-8a4e-7650009b6af3",
   "metadata": {},
   "outputs": [
    {
     "data": {
      "text/plain": [
       "3.3333333333333335"
      ]
     },
     "execution_count": 24,
     "metadata": {},
     "output_type": "execute_result"
    }
   ],
   "source": [
    "200/60\n"
   ]
  },
  {
   "cell_type": "markdown",
   "id": "ccf9bb62-9458-49e3-94be-a19f83960260",
   "metadata": {},
   "source": [
    "**Objectives\n",
    "*data science tools\n",
    "*list popular languages for data science\n",
    "*converting hours to minutes"
   ]
  },
  {
   "cell_type": "markdown",
   "id": "d253d816-5a0f-4f52-ab66-f1f6f89e0595",
   "metadata": {},
   "source": [
    "##Author\n",
    "\n",
    "Jane Polao"
   ]
  },
  {
   "cell_type": "code",
   "execution_count": null,
   "id": "8c20546c-6354-417a-98ba-e8303a786024",
   "metadata": {},
   "outputs": [],
   "source": []
  }
 ],
 "metadata": {
  "kernelspec": {
   "display_name": "Python 3 (ipykernel)",
   "language": "python",
   "name": "python3"
  },
  "language_info": {
   "codemirror_mode": {
    "name": "ipython",
    "version": 3
   },
   "file_extension": ".py",
   "mimetype": "text/x-python",
   "name": "python",
   "nbconvert_exporter": "python",
   "pygments_lexer": "ipython3",
   "version": "3.12.8"
  }
 },
 "nbformat": 4,
 "nbformat_minor": 5
}
